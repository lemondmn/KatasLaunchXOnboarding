{
 "cells": [
  {
   "cell_type": "markdown",
   "metadata": {},
   "source": [
    "# Ejercicio: Crear un paquete"
   ]
  },
  {
   "cell_type": "markdown",
   "metadata": {},
   "source": [
    "## Output de la consola:"
   ]
  },
  {
   "cell_type": "markdown",
   "metadata": {},
   "source": [
    "Microsoft Windows [Version 10.0.22000.493]\n",
    "(c) Microsoft Corporation. All rights reserved.\n",
    "\n",
    "C:\\Users\\lemon>python -m venv env\n",
    "\n",
    "C:\\Users\\lemon>env\\bin\\activate\n",
    "The system cannot find the path specified.\n",
    "\n",
    "C:\\Users\\lemon>env\\Scripts\\activate\n",
    "\n",
    "(env) C:\\Users\\lemon>pip freeze\n",
    "\n",
    "(env) C:\\Users\\lemon>pip install python-dateutil  \n",
    "Collecting python-dateutil  \n",
    "  Using cached python_dateutil-2.8.2-py2.py3-none-any.whl (247 kB)  \n",
    "Collecting six>=1.5  \n",
    "  Using cached six-1.16.0-py2.py3-none-any.whl (11 kB)  \n",
    "Installing collected packages: six, python-dateutil  \n",
    "Successfully installed python-dateutil-2.8.2 six-1.16.0  \n",
    "WARNING: You are using pip version 21.2.3; however, version 22.0.3 is available.  \n",
    "You should consider upgrading via the 'C:\\Users\\lemon\\env\\Scripts\\python.exe -m pip install --upgrade pip' command.\n",
    "\n",
    "(env) C:\\Users\\lemon>pip freeze  \n",
    "python-dateutil==2.8.2  \n",
    "six==1.16.0\n",
    "\n",
    "(env) C:\\Users\\lemon>deactivate\n",
    "\n",
    "C:\\Users\\lemon>"
   ]
  }
 ],
 "metadata": {
  "language_info": {
   "name": "python"
  },
  "orig_nbformat": 4
 },
 "nbformat": 4,
 "nbformat_minor": 2
}
